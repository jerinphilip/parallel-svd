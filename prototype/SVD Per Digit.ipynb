{
 "cells": [
  {
   "cell_type": "code",
   "execution_count": 1,
   "metadata": {},
   "outputs": [],
   "source": [
    "%matplotlib inline\n",
    "import numpy as np\n",
    "from numpy.linalg import svd, norm\n",
    "import cv2\n",
    "from collections import defaultdict\n",
    "\n",
    "from mnist import MNIST\n",
    "from matplotlib import pyplot as plt"
   ]
  },
  {
   "cell_type": "code",
   "execution_count": 2,
   "metadata": {},
   "outputs": [],
   "source": [
    "mnist_path = '/home/jerin/college/s18/ipsc/parallel-svd-ish-stuff/mnist'"
   ]
  },
  {
   "cell_type": "code",
   "execution_count": 3,
   "metadata": {},
   "outputs": [],
   "source": [
    "mndata = MNIST(mnist_path)"
   ]
  },
  {
   "cell_type": "code",
   "execution_count": 4,
   "metadata": {},
   "outputs": [],
   "source": [
    "images, labels = mndata.load_training()"
   ]
  },
  {
   "cell_type": "code",
   "execution_count": 5,
   "metadata": {},
   "outputs": [],
   "source": [
    "def group(images, labels, size):\n",
    "    grouped = defaultdict(list)\n",
    "    for image, label in zip(images, labels):\n",
    "        img = np.array(image, dtype=np.float64)\n",
    "        img = cv2.resize(img, size)\n",
    "        grouped[label].append(img.ravel())\n",
    "    return grouped"
   ]
  },
  {
   "cell_type": "code",
   "execution_count": 6,
   "metadata": {},
   "outputs": [
    {
     "name": "stdout",
     "output_type": "stream",
     "text": [
      "5 5421\n",
      "0 5923\n",
      "4 5842\n",
      "1 6742\n",
      "9 5949\n",
      "2 5958\n",
      "3 6131\n",
      "6 5918\n",
      "7 6265\n",
      "8 5851\n"
     ]
    }
   ],
   "source": [
    "grouped = group(images, labels, size=(8, 8))\n",
    "for key in grouped:\n",
    "    print(key, len(grouped[key]))"
   ]
  },
  {
   "cell_type": "code",
   "execution_count": null,
   "metadata": {},
   "outputs": [],
   "source": []
  },
  {
   "cell_type": "code",
   "execution_count": 7,
   "metadata": {},
   "outputs": [],
   "source": [
    "sample = grouped[7][0]\n",
    "sample = sample.reshape(8, 8)"
   ]
  },
  {
   "cell_type": "code",
   "execution_count": 8,
   "metadata": {},
   "outputs": [
    {
     "data": {
      "text/plain": [
       "<matplotlib.image.AxesImage at 0x7fa027295128>"
      ]
     },
     "execution_count": 8,
     "metadata": {},
     "output_type": "execute_result"
    },
    {
     "data": {
      "image/png": "[encoded data removed]",
      "text/plain": [
       "<matplotlib.figure.Figure at 0x7fa06837a908>"
      ]
     },
     "metadata": {},
     "output_type": "display_data"
    }
   ],
   "source": [
    "plt.imshow(sample)"
   ]
  },
  {
   "cell_type": "code",
   "execution_count": 21,
   "metadata": {},
   "outputs": [],
   "source": [
    "def basis(images):\n",
    "    A = np.array(images).transpose()\n",
    "    u, s, vh = svd(A)\n",
    "    print(s)\n",
    "    return u\n",
    "    \n",
    "def loss(U):\n",
    "    def _loss(z):\n",
    "        alpha = np.dot(U.transpose(), z)\n",
    "        return norm(z - np.dot(U, alpha))\n",
    "    return _loss\n"
   ]
  },
  {
   "cell_type": "code",
   "execution_count": null,
   "metadata": {},
   "outputs": [],
   "source": [
    "bases = {}\n",
    "k = 7\n",
    "\n",
    "for key in grouped:\n",
    "    bases[key] = basis(grouped[key])[:k]\n"
   ]
  },
  {
   "cell_type": "code",
   "execution_count": 20,
   "metadata": {},
   "outputs": [
    {
     "name": "stderr",
     "output_type": "stream",
     "text": [
      "key:   0%|          | 0/10 [00:00<?, ?it/s]\n",
      "sample:   0%|          | 0/5421 [00:00<?, ?it/s]\u001b[A\n",
      "sample:  23%|██▎       | 1260/5421 [00:00<00:00, 12221.53it/s]\u001b[A\n",
      "sample:  45%|████▌     | 2461/5421 [00:00<00:00, 12137.15it/s]\u001b[A\n",
      "sample:  68%|██████▊   | 3705/5421 [00:00<00:00, 12236.27it/s]\u001b[A\n",
      "sample:  90%|█████████ | 4905/5421 [00:00<00:00, 12239.89it/s]\u001b[A\n",
      "key:  10%|█         | 1/10 [00:00<00:04,  2.22it/s]176.56it/s]\u001b[A\n",
      "sample:   0%|          | 0/5923 [00:00<?, ?it/s]\u001b[A\n",
      "sample:  22%|██▏       | 1286/5923 [00:00<00:00, 12772.58it/s]\u001b[A\n",
      "sample:  43%|████▎     | 2541/5923 [00:00<00:00, 12670.45it/s]\u001b[A\n",
      "sample:  64%|██████▍   | 3803/5923 [00:00<00:00, 12650.09it/s]\u001b[A\n",
      "sample:  86%|████████▌ | 5074/5923 [00:00<00:00, 12662.55it/s]\u001b[A\n",
      "key:  20%|██        | 2/10 [00:00<00:03,  2.16it/s]643.98it/s]\u001b[A\n",
      "sample:   0%|          | 0/5842 [00:00<?, ?it/s]\u001b[A\n",
      "sample:  21%|██▏       | 1249/5842 [00:00<00:00, 12406.54it/s]\u001b[A\n",
      "sample:  41%|████▏     | 2418/5842 [00:00<00:00, 12054.75it/s]\u001b[A\n",
      "sample:  62%|██████▏   | 3620/5842 [00:00<00:00, 12036.58it/s]\u001b[A\n",
      "sample:  83%|████████▎ | 4835/5842 [00:00<00:00, 12064.19it/s]\u001b[A\n",
      "key:  30%|███       | 3/10 [00:01<00:03,  2.12it/s]072.94it/s]\u001b[A\n",
      "sample:   0%|          | 0/6742 [00:00<?, ?it/s]\u001b[A\n",
      "sample:  18%|█▊        | 1238/6742 [00:00<00:00, 12173.68it/s]\u001b[A\n",
      "sample:  36%|███▌      | 2436/6742 [00:00<00:00, 12048.49it/s]\u001b[A\n",
      "sample:  54%|█████▍    | 3666/6742 [00:00<00:00, 12182.55it/s]\u001b[A\n",
      "sample:  73%|███████▎  | 4898/6742 [00:00<00:00, 12216.65it/s]\u001b[A\n",
      "sample:  89%|████████▉ | 6007/6742 [00:00<00:00, 11983.69it/s]\u001b[A\n",
      "key:  40%|████      | 4/10 [00:01<00:02,  2.02it/s]943.24it/s]\u001b[A\n",
      "sample:   0%|          | 0/5949 [00:00<?, ?it/s]\u001b[A\n",
      "sample:  21%|██        | 1257/5949 [00:00<00:00, 12501.90it/s]\u001b[A\n",
      "sample:  42%|████▏     | 2472/5949 [00:00<00:00, 12323.11it/s]\u001b[A\n",
      "sample:  63%|██████▎   | 3731/5949 [00:00<00:00, 12406.06it/s]\u001b[A\n",
      "sample:  84%|████████▎ | 4980/5949 [00:00<00:00, 12427.15it/s]\u001b[A\n",
      "key:  50%|█████     | 5/10 [00:02<00:02,  2.03it/s]467.49it/s]\u001b[A\n",
      "sample:   0%|          | 0/5958 [00:00<?, ?it/s]\u001b[A\n",
      "sample:  21%|██        | 1249/5958 [00:00<00:00, 12145.76it/s]\u001b[A\n",
      "sample:  41%|████▏     | 2464/5958 [00:00<00:00, 12174.88it/s]\u001b[A\n",
      "sample:  62%|██████▏   | 3718/5958 [00:00<00:00, 12245.05it/s]\u001b[A\n",
      "sample:  83%|████████▎ | 4963/5958 [00:00<00:00, 12298.35it/s]\u001b[A\n",
      "key:  60%|██████    | 6/10 [00:02<00:01,  2.03it/s]311.53it/s]\u001b[A\n",
      "sample:   0%|          | 0/6131 [00:00<?, ?it/s]\u001b[A\n",
      "sample:  20%|██        | 1255/6131 [00:00<00:00, 12481.86it/s]\u001b[A\n",
      "sample:  40%|████      | 2453/6131 [00:00<00:00, 12232.77it/s]\u001b[A\n",
      "sample:  61%|██████    | 3727/6131 [00:00<00:00, 12392.41it/s]\u001b[A\n",
      "sample:  82%|████████▏ | 5003/6131 [00:00<00:00, 12485.53it/s]\u001b[A\n",
      "key:  70%|███████   | 7/10 [00:03<00:01,  2.03it/s]498.42it/s]\u001b[A\n",
      "sample:   0%|          | 0/5918 [00:00<?, ?it/s]\u001b[A\n",
      "sample:  21%|██▏       | 1259/5918 [00:00<00:00, 12514.44it/s]\u001b[A\n",
      "sample:  42%|████▏     | 2464/5918 [00:00<00:00, 12265.25it/s]\u001b[A\n",
      "sample:  63%|██████▎   | 3708/5918 [00:00<00:00, 12323.42it/s]\u001b[A\n",
      "sample:  83%|████████▎ | 4941/5918 [00:00<00:00, 12315.65it/s]\u001b[A\n",
      "key:  80%|████████  | 8/10 [00:03<00:00,  2.03it/s]375.25it/s]\u001b[A\n",
      "sample:   0%|          | 0/6265 [00:00<?, ?it/s]\u001b[A\n",
      "sample:  20%|█▉        | 1239/6265 [00:00<00:00, 12297.71it/s]\u001b[A\n",
      "sample:  39%|███▉      | 2447/6265 [00:00<00:00, 12199.93it/s]\u001b[A\n",
      "sample:  59%|█████▉    | 3684/6265 [00:00<00:00, 12253.21it/s]\u001b[A\n",
      "sample:  79%|███████▉  | 4947/6265 [00:00<00:00, 12268.72it/s]\u001b[A\n",
      "sample:  99%|█████████▊| 6179/6265 [00:00<00:00, 12268.17it/s]\u001b[A\n",
      "key:  90%|█████████ | 9/10 [00:04<00:00,  2.02it/s]230.26it/s]\u001b[A\n",
      "sample:   0%|          | 0/5851 [00:00<?, ?it/s]\u001b[A\n",
      "sample:  21%|██        | 1234/5851 [00:00<00:00, 12273.44it/s]\u001b[A\n",
      "sample:  41%|████▏     | 2424/5851 [00:00<00:00, 12089.14it/s]\u001b[A\n",
      "sample:  63%|██████▎   | 3659/5851 [00:00<00:00, 12165.50it/s]\u001b[A\n",
      "sample:  84%|████████▎ | 4898/5851 [00:00<00:00, 12210.16it/s]\u001b[A\n",
      "key: 100%|██████████| 10/10 [00:04<00:00,  2.02it/s]95.88it/s]\u001b[A"
     ]
    },
    {
     "name": "stdout",
     "output_type": "stream",
     "text": [
      "defaultdict(<class 'int'>, {False: 60000})\n"
     ]
    },
    {
     "name": "stderr",
     "output_type": "stream",
     "text": [
      "\n"
     ]
    }
   ],
   "source": [
    "stats = defaultdict(int)\n",
    "from tqdm import tqdm\n",
    "\n",
    "for key in tqdm(grouped, desc='key'):\n",
    "    for img in tqdm(grouped[key], desc='sample'):\n",
    "        probs = []\n",
    "        img = img.ravel().reshape(-1, 1)\n",
    "        for second in grouped:\n",
    "            prob = (second, loss(bases[second].transpose())(img))\n",
    "            probs.append(prob)\n",
    "        label = min(probs, key=lambda x: x[1])\n",
    "        stats[label == key] += 1\n",
    "\n",
    "print(stats)\n",
    "            "
   ]
  },
  {
   "cell_type": "code",
   "execution_count": null,
   "metadata": {},
   "outputs": [],
   "source": []
  },
  {
   "cell_type": "code",
   "execution_count": null,
   "metadata": {},
   "outputs": [],
   "source": []
  },
  {
   "cell_type": "code",
   "execution_count": null,
   "metadata": {},
   "outputs": [],
   "source": []
  },
  {
   "cell_type": "code",
   "execution_count": null,
   "metadata": {},
   "outputs": [],
   "source": []
  }
 ],
 "metadata": {
  "kernelspec": {
   "display_name": "Python 3",
   "language": "python",
   "name": "python3"
  },
  "language_info": {
   "codemirror_mode": {
    "name": "ipython",
    "version": 3
   },
   "file_extension": ".py",
   "mimetype": "text/x-python",
   "name": "python",
   "nbconvert_exporter": "python",
   "pygments_lexer": "ipython3",
   "version": "3.6.4"
  }
 },
 "nbformat": 4,
 "nbformat_minor": 2
}
